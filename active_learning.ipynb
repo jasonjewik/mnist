{
  "nbformat": 4,
  "nbformat_minor": 0,
  "metadata": {
    "colab": {
      "name": "active-learning.ipynb",
      "version": "0.3.2",
      "provenance": [],
      "collapsed_sections": []
    },
    "kernelspec": {
      "name": "python3",
      "display_name": "Python 3"
    }
  },
  "cells": [
    {
      "cell_type": "code",
      "metadata": {
        "id": "rT58ScOVdkKj",
        "colab_type": "code",
        "colab": {}
      },
      "source": [
        "import numpy as np\n",
        "import matplotlib.pyplot as plt\n",
        "\n",
        "from keras.datasets import mnist\n",
        "from keras.models import Sequential\n",
        "from keras.layers import Conv2D, Dense, Dropout, Flatten, MaxPooling2D\n",
        "from keras.utils import np_utils"
      ],
      "execution_count": 0,
      "outputs": []
    },
    {
      "cell_type": "code",
      "metadata": {
        "id": "mKBj48PXd10v",
        "colab_type": "code",
        "colab": {}
      },
      "source": [
        "num_classes = 10\n",
        "(x_train, y_train), (x_test, y_test) = mnist.load_data()\n",
        "\n",
        "x_train = x_train.reshape(np.append(x_train.shape, 1))\n",
        "x_test = x_test.reshape(np.append(x_test.shape, 1))\n",
        "\n",
        "encode_y_train = np_utils.to_categorical(y_train)\n",
        "encode_y_test = np_utils.to_categorical(y_test)\n",
        "\n",
        "train_seed = x_train[:1000]\n",
        "train_unlabelled = x_train[1000:]\n",
        "encode_y_train_seed = encode_y_train[:1000]\n",
        "encode_y_train_unlabelled = encode_y_train[1000:]"
      ],
      "execution_count": 0,
      "outputs": []
    },
    {
      "cell_type": "code",
      "metadata": {
        "id": "ZbtOz59rd5dl",
        "colab_type": "code",
        "colab": {}
      },
      "source": [
        "class convnet():\n",
        "  def __init__(self):    \n",
        "    self.model = Sequential()\n",
        "    self.model.add(Conv2D(32, kernel_size=(3, 3), activation='relu'))\n",
        "    self.model.add(Conv2D(64, (3, 3), activation='relu'))\n",
        "    self.model.add(MaxPooling2D(pool_size=(2, 2)))\n",
        "    self.model.add(Dropout(0.25))\n",
        "    self.model.add(Flatten())\n",
        "    self.model.add(Dense(128, activation='relu'))\n",
        "    self.model.add(Dropout(0.5))\n",
        "    self.model.add(Dense(num_classes, activation='softmax'))\n",
        "    \n",
        "  def compile(self):\n",
        "    self.model.compile(optimizer='adadelta', loss='categorical_crossentropy',\n",
        "                       metrics=['accuracy'])\n",
        "    \n",
        "  def train(self, x, y):\n",
        "    self.model.fit(x, y, batch_size=128, epochs=4)\n",
        "    \n",
        "  def evaluate(self, x, y):\n",
        "    return self.model.evaluate(x, y)\n",
        "    \n",
        "  def select_best_predictions(self, x, y):\n",
        "    predictions = self.model.predict(x, batch_size=128)    \n",
        "    inputs, labels = list(), list()\n",
        "    for i in range(len(predictions)): \n",
        "      if max(predictions[i]) > 0.95:\n",
        "        inputs.append(x[i])\n",
        "        labels.append(y[i])        \n",
        "    return np.asarray(inputs), np.asarray(labels)"
      ],
      "execution_count": 0,
      "outputs": []
    },
    {
      "cell_type": "code",
      "metadata": {
        "id": "bSMEWNjqTO5y",
        "colab_type": "code",
        "colab": {}
      },
      "source": [
        "cnn = convnet()"
      ],
      "execution_count": 0,
      "outputs": []
    },
    {
      "cell_type": "code",
      "metadata": {
        "id": "pM6u_rCjZ_0E",
        "colab_type": "code",
        "colab": {}
      },
      "source": [
        "cnn.compile()"
      ],
      "execution_count": 0,
      "outputs": []
    },
    {
      "cell_type": "code",
      "metadata": {
        "id": "j5oAI2XmaApk",
        "colab_type": "code",
        "outputId": "fae354e9-be0d-4a89-a3de-fb77efa5402b",
        "colab": {
          "base_uri": "https://localhost:8080/",
          "height": 158
        }
      },
      "source": [
        "cnn.train(train_seed, encode_y_train_seed)"
      ],
      "execution_count": 0,
      "outputs": [
        {
          "output_type": "stream",
          "text": [
            "Epoch 1/4\n",
            "1000/1000 [==============================] - 7s 7ms/step - loss: 13.4275 - acc: 0.1390\n",
            "Epoch 2/4\n",
            "1000/1000 [==============================] - 5s 5ms/step - loss: 12.2404 - acc: 0.2220\n",
            "Epoch 3/4\n",
            "1000/1000 [==============================] - 3s 3ms/step - loss: 11.0453 - acc: 0.2950\n",
            "Epoch 4/4\n",
            "1000/1000 [==============================] - 4s 4ms/step - loss: 9.9485 - acc: 0.3600\n"
          ],
          "name": "stdout"
        }
      ]
    },
    {
      "cell_type": "code",
      "metadata": {
        "id": "9utycETych70",
        "colab_type": "code",
        "colab": {}
      },
      "source": [
        "new_x_train, new_y_train = cnn.select_best_predictions(train_unlabelled[:5000],\n",
        "                            encode_y_train_unlabelled[:5000])"
      ],
      "execution_count": 0,
      "outputs": []
    },
    {
      "cell_type": "code",
      "metadata": {
        "id": "hXifmCxFnwQ8",
        "colab_type": "code",
        "outputId": "daf53f07-7ba5-480d-eb85-cad727c38305",
        "colab": {
          "base_uri": "https://localhost:8080/",
          "height": 34
        }
      },
      "source": [
        "new_x_train.shape"
      ],
      "execution_count": 0,
      "outputs": [
        {
          "output_type": "execute_result",
          "data": {
            "text/plain": [
              "(4814, 28, 28, 1)"
            ]
          },
          "metadata": {
            "tags": []
          },
          "execution_count": 69
        }
      ]
    },
    {
      "cell_type": "code",
      "metadata": {
        "id": "lTr_9JscpuIF",
        "colab_type": "code",
        "outputId": "1c8ab153-f20f-46a6-9611-2e9b8ab7bdf8",
        "colab": {
          "base_uri": "https://localhost:8080/",
          "height": 34
        }
      },
      "source": [
        "new_y_train.shape"
      ],
      "execution_count": 0,
      "outputs": [
        {
          "output_type": "execute_result",
          "data": {
            "text/plain": [
              "(4814, 10)"
            ]
          },
          "metadata": {
            "tags": []
          },
          "execution_count": 70
        }
      ]
    },
    {
      "cell_type": "code",
      "metadata": {
        "id": "kQAWQ8Oap4O2",
        "colab_type": "code",
        "outputId": "af595cb8-699c-4c99-8a32-49a7dcf7c2af",
        "colab": {
          "base_uri": "https://localhost:8080/",
          "height": 158
        }
      },
      "source": [
        "cnn.train(new_x_train, new_y_train)"
      ],
      "execution_count": 0,
      "outputs": [
        {
          "output_type": "stream",
          "text": [
            "Epoch 1/4\n",
            "4814/4814 [==============================] - 27s 6ms/step - loss: 4.9312 - acc: 0.6132\n",
            "Epoch 2/4\n",
            "4814/4814 [==============================] - 27s 6ms/step - loss: 0.5330 - acc: 0.8498\n",
            "Epoch 3/4\n",
            "4814/4814 [==============================] - 27s 6ms/step - loss: 0.3338 - acc: 0.9055\n",
            "Epoch 4/4\n",
            "4814/4814 [==============================] - 27s 6ms/step - loss: 0.2225 - acc: 0.9344\n"
          ],
          "name": "stdout"
        }
      ]
    },
    {
      "cell_type": "code",
      "metadata": {
        "id": "lsTA_Klyr9Y9",
        "colab_type": "code",
        "outputId": "d5da62d3-5da5-4edb-ed85-6fb77c3107dc",
        "colab": {
          "base_uri": "https://localhost:8080/",
          "height": 52
        }
      },
      "source": [
        "print(cnn.model.evaluate(x_test, encode_y_test))"
      ],
      "execution_count": 0,
      "outputs": [
        {
          "output_type": "stream",
          "text": [
            "10000/10000 [==============================] - 16s 2ms/step\n",
            "[0.1574420371491462, 0.9538]\n"
          ],
          "name": "stdout"
        }
      ]
    },
    {
      "cell_type": "code",
      "metadata": {
        "id": "AJ1loM-Us7WD",
        "colab_type": "code",
        "colab": {}
      },
      "source": [
        ""
      ],
      "execution_count": 0,
      "outputs": []
    }
  ]
}