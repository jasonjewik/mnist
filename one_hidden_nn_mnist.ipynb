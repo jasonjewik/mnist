{
  "nbformat": 4,
  "nbformat_minor": 0,
  "metadata": {
    "kernelspec": {
      "display_name": "Python 3",
      "language": "python",
      "name": "python3"
    },
    "language_info": {
      "codemirror_mode": {
        "name": "ipython",
        "version": 3
      },
      "file_extension": ".py",
      "mimetype": "text/x-python",
      "name": "python",
      "nbconvert_exporter": "python",
      "pygments_lexer": "ipython3",
      "version": "3.6.4"
    },
    "colab": {
      "name": "one-hidden-nn-mnist.ipynb",
      "version": "0.3.2",
      "provenance": []
    }
  },
  "cells": [
    {
      "cell_type": "code",
      "metadata": {
        "id": "Mkb3Juq8eenz",
        "colab_type": "code",
        "colab": {}
      },
      "source": [
        "import numpy as np\n",
        "from matplotlib import pyplot\n",
        "from sklearn.preprocessing import OneHotEncoder\n",
        "from tensorflow import keras"
      ],
      "execution_count": 0,
      "outputs": []
    },
    {
      "cell_type": "code",
      "metadata": {
        "id": "LtzEnFeVeen1",
        "colab_type": "code",
        "colab": {}
      },
      "source": [
        "def softmax(x):\n",
        "    temp = np.zeros(x.shape)\n",
        "    \n",
        "    for i in range(len(x)):\n",
        "        temp[i] = np.exp(x[i]) / np.sum(np.exp(x[i]), axis=0)\n",
        "        \n",
        "    return temp"
      ],
      "execution_count": 0,
      "outputs": []
    },
    {
      "cell_type": "code",
      "metadata": {
        "id": "uEVU6Nzoeen3",
        "colab_type": "code",
        "colab": {}
      },
      "source": [
        "def softmax_prime(x):\n",
        "    return softmax(x) * (1 - softmax(x))"
      ],
      "execution_count": 0,
      "outputs": []
    },
    {
      "cell_type": "code",
      "metadata": {
        "id": "E9xcDvPReen6",
        "colab_type": "code",
        "colab": {}
      },
      "source": [
        "def relu(x):\n",
        "    return np.where(x > 0, x, x * 0.1)"
      ],
      "execution_count": 0,
      "outputs": []
    },
    {
      "cell_type": "code",
      "metadata": {
        "id": "aGoY7-JDeen7",
        "colab_type": "code",
        "colab": {}
      },
      "source": [
        "def relu_prime(x):\n",
        "    return np.where(x > 0, 1, 0.1)"
      ],
      "execution_count": 0,
      "outputs": []
    },
    {
      "cell_type": "code",
      "metadata": {
        "id": "zwl_M9lZeen9",
        "colab_type": "code",
        "colab": {}
      },
      "source": [
        "def sigmoid(x):\n",
        "    return 1/(1+np.exp(-x))"
      ],
      "execution_count": 0,
      "outputs": []
    },
    {
      "cell_type": "code",
      "metadata": {
        "id": "ci0QYEejeen_",
        "colab_type": "code",
        "colab": {}
      },
      "source": [
        "def sigmoid_prime(x):\n",
        "    return np.exp(x)/(np.exp(x)+1)**2"
      ],
      "execution_count": 0,
      "outputs": []
    },
    {
      "cell_type": "code",
      "metadata": {
        "id": "yHI1tNtzeeoA",
        "colab_type": "code",
        "colab": {}
      },
      "source": [
        "def crossEntropy(yHat, y):\n",
        "    return np.where(y == 1, -np.log(yHat), -np.log(1 - yHat))"
      ],
      "execution_count": 0,
      "outputs": []
    },
    {
      "cell_type": "code",
      "metadata": {
        "id": "cR1y9FMfeeoC",
        "colab_type": "code",
        "colab": {}
      },
      "source": [
        "\"\"\"\n",
        "Args: \n",
        "n_x = number of nodes in the input layer\n",
        "n_h = number of nodes in the hidden layer\n",
        "n_y = number of nodes in the output layer\n",
        "\n",
        "Returns:\n",
        "network = a dictionary of weights and biases\n",
        "\"\"\"\n",
        "def init_net(n_x, n_h, n_y):\n",
        "    \n",
        "    # set weights and biases\n",
        "    b1 = np.zeros((n_h, 1))\n",
        "    w1 = np.random.rand(n_h, n_x) * 0.0001\n",
        "    b2 = np.zeros((n_y, 1))\n",
        "    w2 = np.random.rand(n_y, n_h) * 0.0001\n",
        "    \n",
        "    network = {\n",
        "        \"w1\": w1,\n",
        "        \"b1\": b1,\n",
        "        \"w2\": w2,\n",
        "        \"b2\": b2\n",
        "    }\n",
        "    \n",
        "    return network"
      ],
      "execution_count": 0,
      "outputs": []
    },
    {
      "cell_type": "code",
      "metadata": {
        "id": "hY3pWlsaeeoE",
        "colab_type": "code",
        "colab": {}
      },
      "source": [
        "\"\"\"\n",
        "Args:\n",
        "network = the dictionary of network weights and biases\n",
        "inputs = the data to pass through the network\n",
        "\n",
        "Returns:\n",
        "network_activations = the predictions the network is making based on the inputs\n",
        "\"\"\"\n",
        "def forward_prop(network, inputs):\n",
        "    z1 = np.dot(inputs, network[\"w1\"].T) + network[\"b1\"].T\n",
        "    a1 = relu(z1)\n",
        "    z2 = np.dot(a1, network[\"w2\"].T) + network[\"b2\"].T\n",
        "    a2 = softmax(z2)\n",
        "    \n",
        "    network_activations = {\n",
        "        \"z1\": z1,\n",
        "        \"a1\": a1,\n",
        "        \"z2\": z2,\n",
        "        \"a2\": a2\n",
        "    }\n",
        "    \n",
        "    return network_activations"
      ],
      "execution_count": 0,
      "outputs": []
    },
    {
      "cell_type": "code",
      "metadata": {
        "id": "mNce3zgjeeoH",
        "colab_type": "code",
        "colab": {}
      },
      "source": [
        "\"\"\"\n",
        "Args:\n",
        "forward_output = the network predictions\n",
        "labels = the values the network should be predicting\n",
        "\n",
        "Returns:\n",
        "cost = a numerical representation of how far off the network predictions are from the desired values\n",
        "\"\"\"\n",
        "def evaluate_net(forward_output, labels):\n",
        "    cost = crossEntropy(forward_output, labels)\n",
        "    return cost"
      ],
      "execution_count": 0,
      "outputs": []
    },
    {
      "cell_type": "code",
      "metadata": {
        "id": "DqqKmdAueeoK",
        "colab_type": "code",
        "colab": {}
      },
      "source": [
        "\"\"\"\n",
        "Args:\n",
        "network = the dictionary of network weights and biases\n",
        "forward_output = the network predictions\n",
        "inputs = the data initially passed into the network\n",
        "labels = the values the network should be predicting\n",
        "\n",
        "Returns:\n",
        "gradient = a dictionary of numerical adjustments to make to the weights and biases\n",
        "\"\"\"\n",
        "def back_prop(network, forward_output, inputs, labels):\n",
        "    dC_da2 = forward_output[\"a2\"] - labels\n",
        "    da2_dz2 = softmax_prime(forward_output[\"z2\"])\n",
        "    error2 = np.multiply(dC_da2, da2_dz2)\n",
        "    dz2_dw2 = forward_output[\"a1\"].T\n",
        "    dC_dw2 = np.dot(error2.T, dz2_dw2.T)\n",
        "    dC_db2 = np.sum(error2.T, axis = 1).reshape(-1, 1)\n",
        "    \n",
        "    dz2_da1 = network[\"w2\"]\n",
        "    da1_dz1 = relu_prime(forward_output[\"z1\"])\n",
        "    dz1_dw1 = inputs\n",
        "    error1 = np.multiply(np.dot(error2, dz2_da1), da1_dz1)\n",
        "    dC_dw1 = np.dot(error1.T, dz1_dw1)\n",
        "    dC_db1 = np.sum(error1.T, axis = 1).reshape(-1, 1)\n",
        "    \n",
        "    gradient = {\n",
        "        \"dC_dw2\": dC_dw2,\n",
        "        \"dC_db2\": dC_db2,\n",
        "        \"dC_dw1\": dC_dw1,\n",
        "        \"dC_db1\": dC_db1\n",
        "    }\n",
        "    \n",
        "    return gradient"
      ],
      "execution_count": 0,
      "outputs": []
    },
    {
      "cell_type": "code",
      "metadata": {
        "id": "qwNd1qLBeeoM",
        "colab_type": "code",
        "colab": {}
      },
      "source": [
        "\"\"\"\n",
        "Args:\n",
        "network = the dictionary of network weights and biases\n",
        "inputs = the data to pass through the network\n",
        "\n",
        "Returns:\n",
        "predictions = the values the network is predicting based on the input data\n",
        "\"\"\"\n",
        "def predict(network, inputs):\n",
        "    forward_outputs = forward_prop(network, inputs)\n",
        "    predictions = forward_outputs[\"a2\"]\n",
        "    return predictions"
      ],
      "execution_count": 0,
      "outputs": []
    },
    {
      "cell_type": "code",
      "metadata": {
        "id": "Ea3zEMs7eeoO",
        "colab_type": "code",
        "colab": {}
      },
      "source": [
        "\"\"\"\n",
        "Args:\n",
        "activations = the network predictions\n",
        "axis = the axis to check along\n",
        "\n",
        "Returns:\n",
        "predictedValue = the position of the highest one hot encoded activation value\n",
        "\"\"\"\n",
        "def output(activations, axis):\n",
        "    predictedValue = np.argmax(activations, axis = axis)\n",
        "    return predictedValue"
      ],
      "execution_count": 0,
      "outputs": []
    },
    {
      "cell_type": "code",
      "metadata": {
        "id": "-TAD4gxoeeoP",
        "colab_type": "code",
        "colab": {}
      },
      "source": [
        "\"\"\"\n",
        "Args:\n",
        "network = the dictionary of network weights and biases\n",
        "inputs = the data to pass through the network\n",
        "labels = the desired prediction values\n",
        "learning_rate = the 'speed' at which the network adjusts its weights and biases\n",
        "show_cost = whether or not to show the cost\n",
        "\n",
        "Returns:\n",
        "network = the newly updated dictionary of weights and biases after adjustments\n",
        "cost = the cost of the network\n",
        "\"\"\"\n",
        "def learning(network, inputs, labels, learning_rate, show_cost):\n",
        "    forward_output = forward_prop(network, inputs)\n",
        "    # print(forward_output)\n",
        "    gradient = back_prop(network, forward_output, inputs, labels)\n",
        "    network[\"w1\"] -= gradient[\"dC_dw1\"] * learning_rate\n",
        "    network[\"b1\"] -= gradient[\"dC_db1\"] * learning_rate\n",
        "    network[\"w2\"] -= gradient[\"dC_dw2\"] * learning_rate\n",
        "    network[\"b2\"] -= gradient[\"dC_db2\"] * learning_rate\n",
        "\n",
        "    cost = np.sum(evaluate_net(forward_output[\"a2\"], labels))\n",
        "    \n",
        "    if show_cost:\n",
        "        print(\"Cost:\", cost)\n",
        "    \n",
        "    return network, cost"
      ],
      "execution_count": 0,
      "outputs": []
    },
    {
      "cell_type": "code",
      "metadata": {
        "id": "3T9TfxiZeeoR",
        "colab_type": "code",
        "colab": {}
      },
      "source": [
        "\"\"\"\n",
        "Args:\n",
        "array = the values to one hot encode\n",
        "\n",
        "Returns:\n",
        "oheArray = an array of arrays in which...\n",
        "    the inner arrays have a size of 0 to the highest value in the initial array\n",
        "    the inner arrays are 0 everywhere except for the position of the corresponding value in the initial array\n",
        "\"\"\"\n",
        "def oneHot(array):\n",
        "    encoder = OneHotEncoder(sparse = False, categories = 'auto')\n",
        "    array = array.reshape(-1, 1)\n",
        "    oheArray = encoder.fit_transform(array)\n",
        "    return oheArray"
      ],
      "execution_count": 0,
      "outputs": []
    },
    {
      "cell_type": "code",
      "metadata": {
        "id": "4KDD1qNUeeoS",
        "colab_type": "code",
        "colab": {}
      },
      "source": [
        "def getMnistData():\n",
        "    mnist = keras.datasets.mnist\n",
        "    (x_train, y_train), (x_test, y_test) = mnist.load_data()\n",
        "    y_train = oneHot(y_train)[0:60000]\n",
        "    y_test = oneHot(y_test)\n",
        "    \n",
        "    x_train_temp = np.zeros((60000, 784))\n",
        "    for i in range(len(x_train)):\n",
        "        x_train_temp[i] = x_train[i].flatten()\n",
        "        \n",
        "    x_test_temp = np.zeros((10000, 784))\n",
        "    for i in range(len(x_test)):\n",
        "        x_test_temp[i] = x_test[i].flatten()\n",
        "    \n",
        "    x_train = x_train_temp[0:60000]\n",
        "    x_test = x_test_temp\n",
        "    \n",
        "    x_train = x_train/255\n",
        "    x_test = x_test/255\n",
        "    \n",
        "    return x_train, y_train, x_test, y_test"
      ],
      "execution_count": 0,
      "outputs": []
    },
    {
      "cell_type": "code",
      "metadata": {
        "id": "WM0oYzFheeoU",
        "colab_type": "code",
        "colab": {}
      },
      "source": [
        "x_train, y_train, x_test, y_test = getMnistData()"
      ],
      "execution_count": 0,
      "outputs": []
    },
    {
      "cell_type": "code",
      "metadata": {
        "id": "UHaiRdDVeeoV",
        "colab_type": "code",
        "colab": {}
      },
      "source": [
        "\"\"\"\n",
        "Args: \n",
        "inputs = the data to pass through the network\n",
        "labels = the desired network predictions\n",
        "\n",
        "Returns:\n",
        "accuracy = the percentage of predictions the network got right\n",
        "\"\"\"\n",
        "def findAccuracy(inputs, labels):\n",
        "    numCorrect = 0\n",
        "    totalSamples = inputs[:,0].size\n",
        "    for test_index in range(totalSamples):\n",
        "        activations = predict(network, inputs[test_index])\n",
        "        predicted_value = output(activations, axis = 1)\n",
        "        # print(predicted_value)        \n",
        "        if (predicted_value == output(labels[test_index], axis=0)):\n",
        "            numCorrect = numCorrect + 1\n",
        "    accuracy = str(round(numCorrect / totalSamples * 100)) + \"%\"\n",
        "    return accuracy"
      ],
      "execution_count": 0,
      "outputs": []
    },
    {
      "cell_type": "code",
      "metadata": {
        "id": "dUIFar9PeeoX",
        "colab_type": "code",
        "colab": {}
      },
      "source": [
        "network = init_net(784, 500, 10)"
      ],
      "execution_count": 0,
      "outputs": []
    },
    {
      "cell_type": "code",
      "metadata": {
        "scrolled": true,
        "id": "qY679ybVeeoZ",
        "colab_type": "code",
        "colab": {},
        "outputId": "585f0416-7c98-46fd-f82c-9535088e007a"
      },
      "source": [
        "graphCost = True\n",
        "num_iterations = 2000\n",
        "learning_rate = 0.00001\n",
        "costValues = []\n",
        "for i in range(num_iterations):\n",
        "    network, cost = learning(network, x_train, y_train, learning_rate, False)\n",
        "    costValues.append(cost)\n",
        "    print(\"Iteration \" + str(i + 1) + \"/\" + str(num_iterations), end = \"\\r\")\n",
        "    \n",
        "if graphCost:\n",
        "    pyplot.plot(np.linspace(0, num_iterations, num_iterations), costValues)\n",
        "    pyplot.xlabel(\"Iterations\")\n",
        "    pyplot.ylabel(\"Cost\")\n",
        "    pyplot.show()"
      ],
      "execution_count": 0,
      "outputs": [
        {
          "output_type": "stream",
          "text": [
            "Iteration 2000/2000\r"
          ],
          "name": "stdout"
        },
        {
          "output_type": "display_data",
          "data": {
            "image/png": "[encoded data removed]",
            "text/plain": [
              "<Figure size 432x288 with 1 Axes>"
            ]
          },
          "metadata": {
            "tags": [],
            "needs_background": "light"
          }
        }
      ]
    },
    {
      "cell_type": "code",
      "metadata": {
        "id": "CErKKOWZeeod",
        "colab_type": "code",
        "colab": {},
        "outputId": "14f7fd6c-cedc-440f-b49f-f3b8c37796d6"
      },
      "source": [
        "print(\"Training Accuracy:\", findAccuracy(x_train, y_train))\n",
        "print(\"Testing Accuracy:\", findAccuracy(x_test, y_test))"
      ],
      "execution_count": 0,
      "outputs": [
        {
          "output_type": "stream",
          "text": [
            "Training Accuracy: 93%\n",
            "Testing Accuracy: 93%\n"
          ],
          "name": "stdout"
        }
      ]
    },
    {
      "cell_type": "code",
      "metadata": {
        "id": "1gmfMlDdeeof",
        "colab_type": "code",
        "colab": {}
      },
      "source": [
        "\"\"\"\n",
        "Args:\n",
        "sample_to_display = the index of x_test sample to view\n",
        "\n",
        "Returns:\n",
        "prints out the image, actual number, and network prediction\n",
        "\"\"\"\n",
        "def checkAnswer(sample_to_display):\n",
        "    pixels = x_test[sample_to_display].reshape(28, 28)\n",
        "    pyplot.title(\"Input Image\")\n",
        "    pyplot.imshow(pixels, cmap = \"gray\")\n",
        "    pyplot.show()\n",
        "\n",
        "    print(\"Actual Number:\", output(y_test[sample_to_display], axis = 0))\n",
        "    print(\"Network Prediction:\", output(predict(network, x_test[sample_to_display]), axis = 1))"
      ],
      "execution_count": 0,
      "outputs": []
    },
    {
      "cell_type": "code",
      "metadata": {
        "id": "JvP4oYpxeeog",
        "colab_type": "code",
        "colab": {},
        "outputId": "97e28b0d-9e77-4832-89df-71cb5240a07b"
      },
      "source": [
        "checkAnswer(9)\n",
        "checkAnswer(2000)\n",
        "checkAnswer(423)"
      ],
      "execution_count": 0,
      "outputs": [
        {
          "output_type": "display_data",
          "data": {
            "image/png": "[encoded data removed]",
            "text/plain": [
              "<Figure size 432x288 with 1 Axes>"
            ]
          },
          "metadata": {
            "tags": [],
            "needs_background": "light"
          }
        },
        {
          "output_type": "stream",
          "text": [
            "Actual Number: 9\n",
            "Network Prediction: [9]\n"
          ],
          "name": "stdout"
        },
        {
          "output_type": "display_data",
          "data": {
            "image/png": "[encoded data removed]",
            "text/plain": [
              "<Figure size 432x288 with 1 Axes>"
            ]
          },
          "metadata": {
            "tags": [],
            "needs_background": "light"
          }
        },
        {
          "output_type": "stream",
          "text": [
            "Actual Number: 6\n",
            "Network Prediction: [6]\n"
          ],
          "name": "stdout"
        },
        {
          "output_type": "display_data",
          "data": {
            "image/png": "[encoded data removed]",
            "text/plain": [
              "<Figure size 432x288 with 1 Axes>"
            ]
          },
          "metadata": {
            "tags": [],
            "needs_background": "light"
          }
        },
        {
          "output_type": "stream",
          "text": [
            "Actual Number: 2\n",
            "Network Prediction: [2]\n"
          ],
          "name": "stdout"
        }
      ]
    },
    {
      "cell_type": "code",
      "metadata": {
        "id": "X4P3qi7qeeop",
        "colab_type": "code",
        "colab": {}
      },
      "source": [
        ""
      ],
      "execution_count": 0,
      "outputs": []
    }
  ]
}